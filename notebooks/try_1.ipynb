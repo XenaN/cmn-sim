{
 "cells": [
  {
   "cell_type": "code",
   "execution_count": 1,
   "id": "887a2c07-c327-4f5d-a634-7ee066b261ab",
   "metadata": {},
   "outputs": [
    {
     "name": "stderr",
     "output_type": "stream",
     "text": [
      "/home/user/miniconda3/envs/matching/lib/python3.8/site-packages/tqdm/auto.py:22: TqdmWarning: IProgress not found. Please update jupyter and ipywidgets. See https://ipywidgets.readthedocs.io/en/stable/user_install.html\n",
      "  from .autonotebook import tqdm as notebook_tqdm\n"
     ]
    }
   ],
   "source": [
    "import numpy as np\n",
    "import pandas as pd\n",
    "import seaborn as sns\n",
    "import matplotlib.pyplot as plt\n",
    "\n",
    "import torch\n",
    "import torch.nn as nn\n",
    "import torch.optim as optim\n",
    "from torch.utils.data import Dataset, DataLoader\n",
    "\n",
    "from sklearn.preprocessing import StandardScaler    \n",
    "from sklearn.model_selection import train_test_split\n",
    "from sklearn.metrics import confusion_matrix, classification_report\n",
    "\n",
    "import pickle\n",
    "\n",
    "import xgboost as xgb\n",
    "from xgboost import plot_importance, plot_tree\n",
    "from sklearn.metrics import mean_squared_error, mean_absolute_error\n",
    "plt.style.use('fivethirtyeight')\n",
    "from tqdm import tqdm"
   ]
  },
  {
   "cell_type": "code",
   "execution_count": 6,
   "id": "91f36136-f736-416a-a450-1d5e3f0bb568",
   "metadata": {},
   "outputs": [],
   "source": [
    "df = pd.read_csv(\"train.csv\")"
   ]
  },
  {
   "cell_type": "code",
   "execution_count": 8,
   "id": "dc98dc53-bf1e-4a0f-aaf6-fec82240b253",
   "metadata": {},
   "outputs": [],
   "source": [
    "X = df[[\"name_1\", \"name_2\"]]"
   ]
  },
  {
   "cell_type": "code",
   "execution_count": 11,
   "id": "927afd18-82e1-4400-a7f4-3b60807b86cb",
   "metadata": {},
   "outputs": [],
   "source": [
    "y = df.is_duplicate.values"
   ]
  },
  {
   "cell_type": "code",
   "execution_count": 12,
   "id": "b10f601d-1269-4904-ae11-75850263182d",
   "metadata": {},
   "outputs": [],
   "source": [
    "X_train, X_test, y_train, y_test = train_test_split(X, y, test_size=0.33, random_state=69)"
   ]
  },
  {
   "cell_type": "code",
   "execution_count": 18,
   "id": "d7abf881-6521-461d-b26c-0dd08ab609a6",
   "metadata": {},
   "outputs": [],
   "source": [
    "X_train[\"is_duplicate\"] = y_train"
   ]
  },
  {
   "cell_type": "code",
   "execution_count": 19,
   "id": "c26c190b-9276-44ab-894b-f8ab38833859",
   "metadata": {},
   "outputs": [],
   "source": [
    "X_test[\"is_duplicate\"] = y_test"
   ]
  },
  {
   "cell_type": "code",
   "execution_count": 25,
   "id": "829f02ed-0e24-4077-b426-7f45eeac6a4d",
   "metadata": {},
   "outputs": [],
   "source": [
    "X_train.to_csv(\"train.csv\")"
   ]
  },
  {
   "cell_type": "code",
   "execution_count": 26,
   "id": "d2ecb854-fdba-4bdd-92b2-92bfe0be1c3a",
   "metadata": {},
   "outputs": [],
   "source": [
    "X_test.to_csv(\"test.csv\")"
   ]
  },
  {
   "cell_type": "code",
   "execution_count": null,
   "id": "9562d941-50aa-4f8a-9481-73258e3800ed",
   "metadata": {},
   "outputs": [],
   "source": [
    "X_train, X_test, y_train, y_test = train_test_split(features, targets, test_size=0.33, random_state=69)"
   ]
  },
  {
   "cell_type": "code",
   "execution_count": 2,
   "id": "86b04fba-2b87-4565-8af3-b6d096511551",
   "metadata": {},
   "outputs": [],
   "source": [
    "\n",
    "\n",
    "lowercase = lambda string: string.lower()\n",
    "\n",
    "name_1 = [i.lower() for i in df.name_1.values]\n",
    "name_2 = [i.lower() for i in df.name_2.values]\n",
    "\n",
    "united_str = \" \".join(name_1 + name_2)\n",
    "\n",
    "unique_symbols = set()\n",
    "for char in united_str:\n",
    "    unique_symbols.add(char)\n",
    "\n",
    "char_mapper =  {ch:i for i, ch in enumerate(list(unique_symbols))}\n",
    "char_unmapper = {i:ch for i, ch in enumerate(list(unique_symbols))}\n",
    "\n",
    "max_len = max(list(map(len, name_1 + name_2)))\n",
    "\n",
    "# let the blank be 255 chars len\n",
    "#164 to map empty cells\n",
    "name_1_blank = [max(char_mapper.values()) + 1] * 255\n",
    "name_2_blank = [max(char_mapper.values()) + 1] * 255\n",
    "\n",
    "def name_to_embedding(name: str) -> list:\n",
    "    embedding = [max(char_mapper.values()) + 1] * 255\n",
    "    for i, char in enumerate(name):\n",
    "        embedding[i] = char_mapper[char]\n",
    "    return embedding\n",
    "\n",
    "embeddings_list_1 = [name_to_embedding(name) for name in  name_1]\n",
    "embeddings_list_2 = [name_to_embedding(name) for name in  name_2]\n",
    "\n",
    "features = [e1 + e2 for e1, e2 in zip(embeddings_list_1, embeddings_list_2)]\n",
    "features = np.array(features)\n",
    "\n",
    "targets = df.is_duplicate.values"
   ]
  },
  {
   "cell_type": "code",
   "execution_count": 3,
   "id": "61e3357e-ca99-4e73-a233-7322c8d3ae99",
   "metadata": {},
   "outputs": [],
   "source": [
    "with open(\"char_mapper.pkl\", \"wb\") as f:\n",
    "    pickle.dump(char_mapper, f)"
   ]
  },
  {
   "cell_type": "code",
   "execution_count": 4,
   "id": "ee8736e8-ee45-4091-acbc-6a2fcc8dc127",
   "metadata": {},
   "outputs": [],
   "source": [
    "X_train, X_test, y_train, y_test = train_test_split(features, targets, test_size=0.33, random_state=69)"
   ]
  },
  {
   "cell_type": "markdown",
   "id": "8bf38e84-bbf5-4b1e-9413-789209aa2ff1",
   "metadata": {},
   "source": [
    "### XGBOOST"
   ]
  },
  {
   "cell_type": "code",
   "execution_count": 5,
   "id": "28e1bc65-2670-4733-b6c6-598bbe7c87cd",
   "metadata": {},
   "outputs": [
    {
     "name": "stderr",
     "output_type": "stream",
     "text": [
      "/home/user/miniconda3/envs/matching/lib/python3.8/site-packages/xgboost/sklearn.py:793: UserWarning: `early_stopping_rounds` in `fit` method is deprecated for better compatibility with scikit-learn, use `early_stopping_rounds` in constructor or`set_params` instead.\n",
      "  warnings.warn(\n"
     ]
    },
    {
     "ename": "KeyboardInterrupt",
     "evalue": "",
     "output_type": "error",
     "traceback": [
      "\u001b[0;31m---------------------------------------------------------------------------\u001b[0m",
      "\u001b[0;31mKeyboardInterrupt\u001b[0m                         Traceback (most recent call last)",
      "Cell \u001b[0;32mIn [5], line 2\u001b[0m\n\u001b[1;32m      1\u001b[0m reg \u001b[38;5;241m=\u001b[39m xgb\u001b[38;5;241m.\u001b[39mXGBRegressor(n_estimators\u001b[38;5;241m=\u001b[39m\u001b[38;5;241m1000\u001b[39m)\n\u001b[0;32m----> 2\u001b[0m _ \u001b[38;5;241m=\u001b[39m \u001b[43mreg\u001b[49m\u001b[38;5;241;43m.\u001b[39;49m\u001b[43mfit\u001b[49m\u001b[43m(\u001b[49m\u001b[43mX_train\u001b[49m\u001b[43m,\u001b[49m\u001b[43m \u001b[49m\u001b[43my_train\u001b[49m\u001b[43m,\u001b[49m\n\u001b[1;32m      3\u001b[0m \u001b[43m            \u001b[49m\u001b[43meval_set\u001b[49m\u001b[38;5;241;43m=\u001b[39;49m\u001b[43m[\u001b[49m\u001b[43m(\u001b[49m\u001b[43mX_train\u001b[49m\u001b[43m,\u001b[49m\u001b[43m \u001b[49m\u001b[43my_train\u001b[49m\u001b[43m)\u001b[49m\u001b[43m,\u001b[49m\u001b[43m \u001b[49m\u001b[43m(\u001b[49m\u001b[43mX_test\u001b[49m\u001b[43m,\u001b[49m\u001b[43m \u001b[49m\u001b[43my_test\u001b[49m\u001b[43m)\u001b[49m\u001b[43m]\u001b[49m\u001b[43m,\u001b[49m\n\u001b[1;32m      4\u001b[0m \u001b[43m            \u001b[49m\u001b[43mearly_stopping_rounds\u001b[49m\u001b[38;5;241;43m=\u001b[39;49m\u001b[38;5;241;43m50\u001b[39;49m\u001b[43m,\u001b[49m\n\u001b[1;32m      5\u001b[0m \u001b[43m           \u001b[49m\u001b[43mverbose\u001b[49m\u001b[38;5;241;43m=\u001b[39;49m\u001b[38;5;28;43;01mFalse\u001b[39;49;00m\u001b[43m)\u001b[49m\n\u001b[1;32m      6\u001b[0m prediction \u001b[38;5;241m=\u001b[39m reg\u001b[38;5;241m.\u001b[39mpredict(X_test)\n",
      "File \u001b[0;32m~/miniconda3/envs/matching/lib/python3.8/site-packages/xgboost/core.py:575\u001b[0m, in \u001b[0;36m_deprecate_positional_args.<locals>.inner_f\u001b[0;34m(*args, **kwargs)\u001b[0m\n\u001b[1;32m    573\u001b[0m \u001b[38;5;28;01mfor\u001b[39;00m k, arg \u001b[38;5;129;01min\u001b[39;00m \u001b[38;5;28mzip\u001b[39m(sig\u001b[38;5;241m.\u001b[39mparameters, args):\n\u001b[1;32m    574\u001b[0m     kwargs[k] \u001b[38;5;241m=\u001b[39m arg\n\u001b[0;32m--> 575\u001b[0m \u001b[38;5;28;01mreturn\u001b[39;00m \u001b[43mf\u001b[49m\u001b[43m(\u001b[49m\u001b[38;5;241;43m*\u001b[39;49m\u001b[38;5;241;43m*\u001b[39;49m\u001b[43mkwargs\u001b[49m\u001b[43m)\u001b[49m\n",
      "File \u001b[0;32m~/miniconda3/envs/matching/lib/python3.8/site-packages/xgboost/sklearn.py:961\u001b[0m, in \u001b[0;36mXGBModel.fit\u001b[0;34m(self, X, y, sample_weight, base_margin, eval_set, eval_metric, early_stopping_rounds, verbose, xgb_model, sample_weight_eval_set, base_margin_eval_set, feature_weights, callbacks)\u001b[0m\n\u001b[1;32m    956\u001b[0m     obj \u001b[38;5;241m=\u001b[39m \u001b[38;5;28;01mNone\u001b[39;00m\n\u001b[1;32m    958\u001b[0m model, metric, params, early_stopping_rounds, callbacks \u001b[38;5;241m=\u001b[39m \u001b[38;5;28mself\u001b[39m\u001b[38;5;241m.\u001b[39m_configure_fit(\n\u001b[1;32m    959\u001b[0m     xgb_model, eval_metric, params, early_stopping_rounds, callbacks\n\u001b[1;32m    960\u001b[0m )\n\u001b[0;32m--> 961\u001b[0m \u001b[38;5;28mself\u001b[39m\u001b[38;5;241m.\u001b[39m_Booster \u001b[38;5;241m=\u001b[39m \u001b[43mtrain\u001b[49m\u001b[43m(\u001b[49m\n\u001b[1;32m    962\u001b[0m \u001b[43m    \u001b[49m\u001b[43mparams\u001b[49m\u001b[43m,\u001b[49m\n\u001b[1;32m    963\u001b[0m \u001b[43m    \u001b[49m\u001b[43mtrain_dmatrix\u001b[49m\u001b[43m,\u001b[49m\n\u001b[1;32m    964\u001b[0m \u001b[43m    \u001b[49m\u001b[38;5;28;43mself\u001b[39;49m\u001b[38;5;241;43m.\u001b[39;49m\u001b[43mget_num_boosting_rounds\u001b[49m\u001b[43m(\u001b[49m\u001b[43m)\u001b[49m\u001b[43m,\u001b[49m\n\u001b[1;32m    965\u001b[0m \u001b[43m    \u001b[49m\u001b[43mevals\u001b[49m\u001b[38;5;241;43m=\u001b[39;49m\u001b[43mevals\u001b[49m\u001b[43m,\u001b[49m\n\u001b[1;32m    966\u001b[0m \u001b[43m    \u001b[49m\u001b[43mearly_stopping_rounds\u001b[49m\u001b[38;5;241;43m=\u001b[39;49m\u001b[43mearly_stopping_rounds\u001b[49m\u001b[43m,\u001b[49m\n\u001b[1;32m    967\u001b[0m \u001b[43m    \u001b[49m\u001b[43mevals_result\u001b[49m\u001b[38;5;241;43m=\u001b[39;49m\u001b[43mevals_result\u001b[49m\u001b[43m,\u001b[49m\n\u001b[1;32m    968\u001b[0m \u001b[43m    \u001b[49m\u001b[43mobj\u001b[49m\u001b[38;5;241;43m=\u001b[39;49m\u001b[43mobj\u001b[49m\u001b[43m,\u001b[49m\n\u001b[1;32m    969\u001b[0m \u001b[43m    \u001b[49m\u001b[43mcustom_metric\u001b[49m\u001b[38;5;241;43m=\u001b[39;49m\u001b[43mmetric\u001b[49m\u001b[43m,\u001b[49m\n\u001b[1;32m    970\u001b[0m \u001b[43m    \u001b[49m\u001b[43mverbose_eval\u001b[49m\u001b[38;5;241;43m=\u001b[39;49m\u001b[43mverbose\u001b[49m\u001b[43m,\u001b[49m\n\u001b[1;32m    971\u001b[0m \u001b[43m    \u001b[49m\u001b[43mxgb_model\u001b[49m\u001b[38;5;241;43m=\u001b[39;49m\u001b[43mmodel\u001b[49m\u001b[43m,\u001b[49m\n\u001b[1;32m    972\u001b[0m \u001b[43m    \u001b[49m\u001b[43mcallbacks\u001b[49m\u001b[38;5;241;43m=\u001b[39;49m\u001b[43mcallbacks\u001b[49m\u001b[43m,\u001b[49m\n\u001b[1;32m    973\u001b[0m \u001b[43m\u001b[49m\u001b[43m)\u001b[49m\n\u001b[1;32m    975\u001b[0m \u001b[38;5;28mself\u001b[39m\u001b[38;5;241m.\u001b[39m_set_evaluation_result(evals_result)\n\u001b[1;32m    976\u001b[0m \u001b[38;5;28;01mreturn\u001b[39;00m \u001b[38;5;28mself\u001b[39m\n",
      "File \u001b[0;32m~/miniconda3/envs/matching/lib/python3.8/site-packages/xgboost/core.py:575\u001b[0m, in \u001b[0;36m_deprecate_positional_args.<locals>.inner_f\u001b[0;34m(*args, **kwargs)\u001b[0m\n\u001b[1;32m    573\u001b[0m \u001b[38;5;28;01mfor\u001b[39;00m k, arg \u001b[38;5;129;01min\u001b[39;00m \u001b[38;5;28mzip\u001b[39m(sig\u001b[38;5;241m.\u001b[39mparameters, args):\n\u001b[1;32m    574\u001b[0m     kwargs[k] \u001b[38;5;241m=\u001b[39m arg\n\u001b[0;32m--> 575\u001b[0m \u001b[38;5;28;01mreturn\u001b[39;00m \u001b[43mf\u001b[49m\u001b[43m(\u001b[49m\u001b[38;5;241;43m*\u001b[39;49m\u001b[38;5;241;43m*\u001b[39;49m\u001b[43mkwargs\u001b[49m\u001b[43m)\u001b[49m\n",
      "File \u001b[0;32m~/miniconda3/envs/matching/lib/python3.8/site-packages/xgboost/training.py:181\u001b[0m, in \u001b[0;36mtrain\u001b[0;34m(params, dtrain, num_boost_round, evals, obj, feval, maximize, early_stopping_rounds, evals_result, verbose_eval, xgb_model, callbacks, custom_metric)\u001b[0m\n\u001b[1;32m    179\u001b[0m \u001b[38;5;28;01mif\u001b[39;00m cb_container\u001b[38;5;241m.\u001b[39mbefore_iteration(bst, i, dtrain, evals):\n\u001b[1;32m    180\u001b[0m     \u001b[38;5;28;01mbreak\u001b[39;00m\n\u001b[0;32m--> 181\u001b[0m \u001b[43mbst\u001b[49m\u001b[38;5;241;43m.\u001b[39;49m\u001b[43mupdate\u001b[49m\u001b[43m(\u001b[49m\u001b[43mdtrain\u001b[49m\u001b[43m,\u001b[49m\u001b[43m \u001b[49m\u001b[43mi\u001b[49m\u001b[43m,\u001b[49m\u001b[43m \u001b[49m\u001b[43mobj\u001b[49m\u001b[43m)\u001b[49m\n\u001b[1;32m    182\u001b[0m \u001b[38;5;28;01mif\u001b[39;00m cb_container\u001b[38;5;241m.\u001b[39mafter_iteration(bst, i, dtrain, evals):\n\u001b[1;32m    183\u001b[0m     \u001b[38;5;28;01mbreak\u001b[39;00m\n",
      "File \u001b[0;32m~/miniconda3/envs/matching/lib/python3.8/site-packages/xgboost/core.py:1778\u001b[0m, in \u001b[0;36mBooster.update\u001b[0;34m(self, dtrain, iteration, fobj)\u001b[0m\n\u001b[1;32m   1775\u001b[0m \u001b[38;5;28mself\u001b[39m\u001b[38;5;241m.\u001b[39m_validate_features(dtrain)\n\u001b[1;32m   1777\u001b[0m \u001b[38;5;28;01mif\u001b[39;00m fobj \u001b[38;5;129;01mis\u001b[39;00m \u001b[38;5;28;01mNone\u001b[39;00m:\n\u001b[0;32m-> 1778\u001b[0m     _check_call(\u001b[43m_LIB\u001b[49m\u001b[38;5;241;43m.\u001b[39;49m\u001b[43mXGBoosterUpdateOneIter\u001b[49m\u001b[43m(\u001b[49m\u001b[38;5;28;43mself\u001b[39;49m\u001b[38;5;241;43m.\u001b[39;49m\u001b[43mhandle\u001b[49m\u001b[43m,\u001b[49m\n\u001b[1;32m   1779\u001b[0m \u001b[43m                                            \u001b[49m\u001b[43mctypes\u001b[49m\u001b[38;5;241;43m.\u001b[39;49m\u001b[43mc_int\u001b[49m\u001b[43m(\u001b[49m\u001b[43miteration\u001b[49m\u001b[43m)\u001b[49m\u001b[43m,\u001b[49m\n\u001b[1;32m   1780\u001b[0m \u001b[43m                                            \u001b[49m\u001b[43mdtrain\u001b[49m\u001b[38;5;241;43m.\u001b[39;49m\u001b[43mhandle\u001b[49m\u001b[43m)\u001b[49m)\n\u001b[1;32m   1781\u001b[0m \u001b[38;5;28;01melse\u001b[39;00m:\n\u001b[1;32m   1782\u001b[0m     pred \u001b[38;5;241m=\u001b[39m \u001b[38;5;28mself\u001b[39m\u001b[38;5;241m.\u001b[39mpredict(dtrain, output_margin\u001b[38;5;241m=\u001b[39m\u001b[38;5;28;01mTrue\u001b[39;00m, training\u001b[38;5;241m=\u001b[39m\u001b[38;5;28;01mTrue\u001b[39;00m)\n",
      "\u001b[0;31mKeyboardInterrupt\u001b[0m: "
     ]
    }
   ],
   "source": [
    "reg = xgb.XGBRegressor(n_estimators=1000)\n",
    "_ = reg.fit(X_train, y_train,\n",
    "            eval_set=[(X_train, y_train), (X_test, y_test)],\n",
    "            early_stopping_rounds=50,\n",
    "           verbose=False)\n",
    "prediction = reg.predict(X_test)"
   ]
  },
  {
   "cell_type": "code",
   "execution_count": null,
   "id": "c64c7901-75c2-475b-bf54-b29784fb74f5",
   "metadata": {},
   "outputs": [],
   "source": [
    "from sklearn.metrics import f1_score"
   ]
  },
  {
   "cell_type": "code",
   "execution_count": null,
   "id": "004e1a11-61bf-46f5-8954-0f7d00f59ae9",
   "metadata": {},
   "outputs": [],
   "source": [
    "best_tresh, best_f1 = 0, 0\n",
    "for thresh in tqdm(range(0, 100)):\n",
    "    thresh /= 100\n",
    "    pred = [1 if x > thresh else 0  for x in prediction]\n",
    "    f1 = f1_score(y_test, pred)\n",
    "    if f1 > best_f1:\n",
    "        best_tresh = thresh"
   ]
  },
  {
   "cell_type": "code",
   "execution_count": null,
   "id": "b57e7b50-65e1-490d-a84a-de3ec610fcf7",
   "metadata": {},
   "outputs": [],
   "source": [
    "print(best_tresh)"
   ]
  },
  {
   "cell_type": "code",
   "execution_count": null,
   "id": "595d77af-8b14-4646-aa10-b48f4d2bc54f",
   "metadata": {},
   "outputs": [],
   "source": [
    "pred = [1 if x > best_tresh else 0  for x in prediction]"
   ]
  },
  {
   "cell_type": "code",
   "execution_count": null,
   "id": "e7e4d17f-3891-4a17-b3a7-b112b78aa0a6",
   "metadata": {},
   "outputs": [],
   "source": [
    "print(classification_report(y_test, pred))"
   ]
  },
  {
   "cell_type": "code",
   "execution_count": null,
   "id": "0d02044c-285a-421b-9ec9-bb193f07f64a",
   "metadata": {},
   "outputs": [],
   "source": [
    "def name_to_embedding(name: str) -> list:\n",
    "    embedding = [max(char_mapper.values()) + 1] * 255\n",
    "    for i, char in enumerate(name):\n",
    "        embedding[i] = char_mapper[char]\n",
    "    return embedding"
   ]
  },
  {
   "cell_type": "code",
   "execution_count": null,
   "id": "881ef571-1050-4bc4-9ad1-316193edd56e",
   "metadata": {},
   "outputs": [],
   "source": [
    "def compare_names(name_1, name_2):\n",
    "    embed = np.array(name_to_embedding(name_1.lower()) + name_to_embedding(name_2.lower())).reshape(1,-1)\n",
    "    prediction = reg.predict(embed)\n",
    "    best_tresh = .99\n",
    "    pred = [\"Одинаковое название\" if x > best_tresh else \"Другое название\"  for x in prediction]\n",
    "    return pred[0]"
   ]
  },
  {
   "cell_type": "code",
   "execution_count": null,
   "id": "e23655e8-81c0-4004-9fe3-d960bc12334f",
   "metadata": {},
   "outputs": [],
   "source": [
    "name_1 = \"Pirelli Neumaticos S.A.I.C.\"\n",
    "name_2 = \"Pirelli Tyre Co., Ltd.\"\n",
    "compare_names(name_1, name_2)"
   ]
  },
  {
   "cell_type": "code",
   "execution_count": null,
   "id": "5ff74781-dcc3-4873-8671-341886c45015",
   "metadata": {},
   "outputs": [],
   "source": [
    "name_1 = \"Pirelli Neumaticos S.A.I.C.\"\n",
    "name_2 = \"asjh ajhsf iajshf has\"\n",
    "compare_names(name_1, name_2)"
   ]
  },
  {
   "cell_type": "markdown",
   "id": "cc7008a3-1047-4dd3-b934-b72f6f995866",
   "metadata": {},
   "source": [
    "### NN"
   ]
  },
  {
   "cell_type": "code",
   "execution_count": null,
   "id": "37a66f08-598a-4db7-a9d4-7982362d436e",
   "metadata": {},
   "outputs": [],
   "source": [
    "EPOCHS = 20\n",
    "BATCH_SIZE = 64\n",
    "LEARNING_RATE = 0.001"
   ]
  },
  {
   "cell_type": "code",
   "execution_count": null,
   "id": "919d5918-f413-4a3a-ac69-db405e00b1cf",
   "metadata": {},
   "outputs": [],
   "source": [
    "## train data\n",
    "class TrainData(Dataset):\n",
    "    \n",
    "    def __init__(self, X_data, y_data):\n",
    "        self.X_data = X_data\n",
    "        self.y_data = y_data\n",
    "        \n",
    "    def __getitem__(self, index):\n",
    "        return self.X_data[index], self.y_data[index]\n",
    "        \n",
    "    def __len__ (self):\n",
    "        return len(self.X_data)\n",
    "\n",
    "\n",
    "train_data = TrainData(torch.FloatTensor(X_train), \n",
    "                       torch.FloatTensor(y_train))\n",
    "## test data    \n",
    "class TestData(Dataset):\n",
    "    \n",
    "    def __init__(self, X_data):\n",
    "        self.X_data = X_data\n",
    "        \n",
    "    def __getitem__(self, index):\n",
    "        return self.X_data[index]\n",
    "        \n",
    "    def __len__ (self):\n",
    "        return len(self.X_data)\n",
    "    \n",
    "\n",
    "test_data = TestData(torch.FloatTensor(X_test))"
   ]
  },
  {
   "cell_type": "code",
   "execution_count": null,
   "id": "a81f660c-83eb-49d5-8867-acaa3a0067b9",
   "metadata": {},
   "outputs": [],
   "source": [
    "train_loader = DataLoader(dataset=train_data, batch_size=BATCH_SIZE, shuffle=True)\n",
    "test_loader = DataLoader(dataset=test_data, batch_size=1)"
   ]
  },
  {
   "cell_type": "code",
   "execution_count": null,
   "id": "28807e02-0d0b-40ba-83bd-6f51713bae4a",
   "metadata": {},
   "outputs": [],
   "source": [
    "class BinaryClassification(nn.Module):\n",
    "    def __init__(self):\n",
    "        super(BinaryClassification, self).__init__()\n",
    "        # Number of input features is 12.\n",
    "        self.layer_1 = nn.Linear(features.shape[1], 64) \n",
    "        self.layer_2 = nn.Linear(64, 64)\n",
    "        self.layer_out = nn.Linear(64, 1) \n",
    "        \n",
    "        self.relu = nn.ReLU()\n",
    "        self.dropout = nn.Dropout(p=0.1)\n",
    "        self.batchnorm1 = nn.BatchNorm1d(64)\n",
    "        self.batchnorm2 = nn.BatchNorm1d(64)\n",
    "        \n",
    "    def forward(self, inputs):\n",
    "        x = self.relu(self.layer_1(inputs))\n",
    "        x = self.batchnorm1(x)\n",
    "        x = self.relu(self.layer_2(x))\n",
    "        x = self.batchnorm2(x)\n",
    "        x = self.dropout(x)\n",
    "        x = self.layer_out(x)\n",
    "        \n",
    "        return x"
   ]
  },
  {
   "cell_type": "code",
   "execution_count": null,
   "id": "b67cc04d-1607-4402-9e84-fe2c06567660",
   "metadata": {},
   "outputs": [],
   "source": [
    "device = torch.device(\"cuda:0\" if torch.cuda.is_available() else \"cpu\")\n",
    "print(device)"
   ]
  },
  {
   "cell_type": "code",
   "execution_count": null,
   "id": "3b201b4f-0c93-415d-8ada-aecdd49ee3be",
   "metadata": {},
   "outputs": [],
   "source": [
    "model = BinaryClassification()\n",
    "model.to(device)\n",
    "print(model)\n",
    "criterion = nn.BCEWithLogitsLoss()\n",
    "optimizer = optim.Adam(model.parameters(), lr=LEARNING_RATE)"
   ]
  },
  {
   "cell_type": "code",
   "execution_count": null,
   "id": "19cda5f0-7c7e-4994-95ab-3e75d35c2bb5",
   "metadata": {},
   "outputs": [],
   "source": [
    "def binary_acc(y_pred, y_test):\n",
    "    y_pred_tag = torch.round(torch.sigmoid(y_pred))\n",
    "\n",
    "    correct_results_sum = (y_pred_tag == y_test).sum().float()\n",
    "    acc = correct_results_sum/y_test.shape[0]\n",
    "    acc = torch.round(acc * 100)\n",
    "    \n",
    "    return acc"
   ]
  },
  {
   "cell_type": "code",
   "execution_count": null,
   "id": "32a7a47e-e9f8-4283-bea2-8dfede3d7e8f",
   "metadata": {
    "tags": []
   },
   "outputs": [],
   "source": [
    "model.train()\n",
    "for e in range(1, EPOCHS+1):\n",
    "    epoch_loss = 0\n",
    "    epoch_acc = 0\n",
    "    for X_batch, y_batch in train_loader:\n",
    "        X_batch, y_batch = X_batch.to(device), y_batch.to(device)\n",
    "        optimizer.zero_grad()\n",
    "        \n",
    "        y_pred = model(X_batch)\n",
    "        \n",
    "        loss = criterion(y_pred, y_batch.unsqueeze(1))\n",
    "        acc = binary_acc(y_pred, y_batch.unsqueeze(1))\n",
    "        \n",
    "        loss.backward()\n",
    "        optimizer.step()\n",
    "        \n",
    "        epoch_loss += loss.item()\n",
    "        epoch_acc += acc.item()\n",
    "        \n",
    "\n",
    "    print(f'Epoch {e+0:03}: | Loss: {epoch_loss/len(train_loader):.5f} | Acc: {epoch_acc/len(train_loader):.3f}')"
   ]
  },
  {
   "cell_type": "code",
   "execution_count": null,
   "id": "37486365-29c9-4531-86f1-340578ba0618",
   "metadata": {},
   "outputs": [],
   "source": [
    "from tqdm import tqdm"
   ]
  },
  {
   "cell_type": "code",
   "execution_count": null,
   "id": "c84dc372-44e6-4700-b56e-3e5d9882f609",
   "metadata": {},
   "outputs": [],
   "source": [
    "y_pred_list = []\n",
    "model.eval()\n",
    "with torch.no_grad():\n",
    "    for X_batch in tqdm(test_loader):\n",
    "        X_batch = X_batch.to(device)\n",
    "        y_test_pred = model(X_batch)\n",
    "        y_test_pred = torch.sigmoid(y_test_pred)\n",
    "        y_pred_tag = torch.round(y_test_pred)\n",
    "        y_pred_list.append(y_pred_tag.cpu().numpy())\n",
    "\n",
    "y_pred_list = [a.squeeze().tolist() for a in y_pred_list]"
   ]
  },
  {
   "cell_type": "code",
   "execution_count": null,
   "id": "f6d6f130-0f47-4896-9699-d27d1b369e58",
   "metadata": {},
   "outputs": [],
   "source": [
    "print(classification_report(y_test, y_pred_list))"
   ]
  },
  {
   "cell_type": "code",
   "execution_count": null,
   "id": "2df0b394-2ca4-4535-bd35-9ce9eda752cb",
   "metadata": {},
   "outputs": [],
   "source": [
    "confusion_matrix(y_test, y_pred_list)"
   ]
  },
  {
   "cell_type": "markdown",
   "id": "3b0d04f9-c05f-4bd0-a413-f3d6f04789ca",
   "metadata": {},
   "source": [
    "# Inference"
   ]
  },
  {
   "cell_type": "code",
   "execution_count": null,
   "id": "8699bf9d-0c56-463d-8cb9-9c60bd994d51",
   "metadata": {},
   "outputs": [],
   "source": [
    "with open(\"char_mapper.pkl\", \"rb\") as f:\n",
    "    char_mapper = pickle.load(f)"
   ]
  },
  {
   "cell_type": "code",
   "execution_count": null,
   "id": "3ca667bb-e92b-4494-8c61-9cf67871ba9e",
   "metadata": {},
   "outputs": [],
   "source": [
    "name_1 = \"Pirelli Neumaticos S.A.I.C.\"\n",
    "name_2 = \"Pirelli Tyre Co., Ltd.\""
   ]
  },
  {
   "cell_type": "code",
   "execution_count": null,
   "id": "717983ab-43a4-4ac4-a1d1-1f152e85bc93",
   "metadata": {},
   "outputs": [],
   "source": [
    "def name_to_embedding(name: str) -> list:\n",
    "    embedding = [max(char_mapper.values()) + 1] * 255\n",
    "    for i, char in enumerate(name):\n",
    "        embedding[i] = char_mapper[char]\n",
    "    return embedding"
   ]
  },
  {
   "cell_type": "code",
   "execution_count": null,
   "id": "41a0cd34-7f3a-4091-93de-4776e0e384e5",
   "metadata": {},
   "outputs": [],
   "source": [
    "def compare_names(name_1, name_2):\n",
    "    input_ = torch.FloatTensor(np.array(name_to_embedding(name_1.lower()) + name_to_embedding(name_2.lower())).reshape(1,-1)).to(\"cuda\")\n",
    "    output = model(input_)\n",
    "    with torch.no_grad():\n",
    "        y_test_pred = torch.sigmoid(output)\n",
    "        y_pred_tag = torch.round(y_test_pred)\n",
    "    ans = y_pred_tag[0][0]\n",
    "    return int(ans)"
   ]
  },
  {
   "cell_type": "code",
   "execution_count": null,
   "id": "8b5ac748-f955-4744-982f-bdc28449b298",
   "metadata": {},
   "outputs": [],
   "source": [
    "name_1 = \"Pirelli Neumaticos S.A.I.C.\"\n",
    "name_2 = \"Pirelli Tyre Co., Ltd.\"\n",
    "compare_names(name_1, name_2)"
   ]
  },
  {
   "cell_type": "code",
   "execution_count": null,
   "id": "fe82a0d6-0f41-48ac-812e-55b717c96793",
   "metadata": {},
   "outputs": [],
   "source": [
    "name_1 = \"Pirelli Neumaticos S.A.I.C.\"\n",
    "name_2 = \"Pirelli Neumaticos S.A.I.C.\"\n",
    "compare_names(name_1, name_2)"
   ]
  },
  {
   "cell_type": "code",
   "execution_count": null,
   "id": "682de431-bc90-41d9-8488-34b8f5d67de5",
   "metadata": {},
   "outputs": [],
   "source": [
    "name_1 = \"Pirelli Neumaticos S.A.I.C.\"\n",
    "name_2 = \"asjh ajhsf iajshf has\"\n",
    "compare_names(name_1, name_2)"
   ]
  },
  {
   "cell_type": "code",
   "execution_count": null,
   "id": "efc01459-e865-4cf9-ab96-803e2b853dc9",
   "metadata": {},
   "outputs": [],
   "source": [
    "name_1 = \"Pirelli Neumaticos S.A.I.C.\"\n",
    "name_2 = \"asjh ajAEWRfq3w 9jshf has\"\n",
    "compare_names(name_1, name_2)"
   ]
  }
 ],
 "metadata": {
  "kernelspec": {
   "display_name": "Python 3",
   "language": "python",
   "name": "python3"
  },
  "language_info": {
   "codemirror_mode": {
    "name": "ipython",
    "version": 3
   },
   "file_extension": ".py",
   "mimetype": "text/x-python",
   "name": "python",
   "nbconvert_exporter": "python",
   "pygments_lexer": "ipython3",
   "version": "3.8.13"
  }
 },
 "nbformat": 4,
 "nbformat_minor": 5
}
